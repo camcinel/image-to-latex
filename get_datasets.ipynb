{
 "cells": [
  {
   "cell_type": "code",
   "execution_count": 2,
   "metadata": {},
   "outputs": [],
   "source": [
    "import tarfile\n",
    "!wget https://untrix.github.io/i2l/140k_download.html\n",
    "!unzip ./dataset5.tgz\n",
    "with tarfile.open('dataset5.tgz', \"r\") as f:\n",
    "        f.extractall()"
   ]
  },
  {
   "cell_type": "code",
   "execution_count": null,
   "metadata": {},
   "outputs": [],
   "source": [
    "!python3 main.py"
   ]
  }
 ],
 "metadata": {
  "kernelspec": {
   "display_name": "Python 3 (ipykernel)",
   "language": "python",
   "name": "python3"
  },
  "language_info": {
   "codemirror_mode": {
    "name": "ipython",
    "version": 3
   },
   "file_extension": ".py",
   "mimetype": "text/x-python",
   "name": "python",
   "nbconvert_exporter": "python",
   "pygments_lexer": "ipython3",
   "version": "3.10.9"
  },
  "vscode": {
   "interpreter": {
    "hash": "7d01033989696698c63ee49db22f168d904fb1d49f9ff21791f9a711c768c372"
   }
  }
 },
 "nbformat": 4,
 "nbformat_minor": 2
}
