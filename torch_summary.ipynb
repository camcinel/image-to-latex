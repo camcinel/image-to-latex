{
 "cells": [
  {
   "cell_type": "code",
   "execution_count": 1,
   "metadata": {},
   "outputs": [
    {
     "name": "stderr",
     "output_type": "stream",
     "text": [
      "/home/shreyknsl/.local/lib/python3.8/site-packages/tqdm/auto.py:22: TqdmWarning: IProgress not found. Please update jupyter and ipywidgets. See https://ipywidgets.readthedocs.io/en/stable/user_install.html\n",
      "  from .autonotebook import tqdm as notebook_tqdm\n"
     ]
    }
   ],
   "source": [
    "from vit import VisionConvolutions, PatchEmbedding, Encoder\n",
    "from torchsummary import summary"
   ]
  },
  {
   "cell_type": "code",
   "execution_count": null,
   "metadata": {},
   "outputs": [],
   "source": [
    "import torch, gc\n",
    "gc.collect()\n",
    "torch.cuda.empty_cache()\n",
    "\n"
   ]
  },
  {
   "cell_type": "code",
   "execution_count": 2,
   "metadata": {},
   "outputs": [
    {
     "ename": "AssertionError",
     "evalue": "Embedding depth 257 is not even",
     "output_type": "error",
     "traceback": [
      "\u001b[0;31m---------------------------------------------------------------------------\u001b[0m",
      "\u001b[0;31mAssertionError\u001b[0m                            Traceback (most recent call last)",
      "Cell \u001b[0;32mIn[2], line 5\u001b[0m\n\u001b[1;32m      1\u001b[0m input_img \u001b[39m=\u001b[39m (\u001b[39m1\u001b[39m,\u001b[39m256\u001b[39m,\u001b[39m1152\u001b[39m)\n\u001b[1;32m      3\u001b[0m \u001b[39m# vc_model = VisionConvolutions().to(\"cuda\")\u001b[39;00m\n\u001b[0;32m----> 5\u001b[0m pe_model \u001b[39m=\u001b[39m PatchEmbedding(\u001b[39m16\u001b[39;49m,\u001b[39m256\u001b[39;49m,(\u001b[39m128\u001b[39;49m,\u001b[39m32\u001b[39;49m,\u001b[39m144\u001b[39;49m))\u001b[39m.\u001b[39mto(\u001b[39m\"\u001b[39m\u001b[39mcpu\u001b[39m\u001b[39m\"\u001b[39m)\n\u001b[1;32m      7\u001b[0m \u001b[39m# enc_model = Encoder(256,8,8,4,0,8,256,\"gelu\").to(\"cuda\")\u001b[39;00m\n\u001b[1;32m      8\u001b[0m \n\u001b[1;32m      9\u001b[0m \u001b[39m# enc_model = Encoder()\u001b[39;00m\n\u001b[0;32m   (...)\u001b[0m\n\u001b[1;32m     12\u001b[0m \n\u001b[1;32m     13\u001b[0m \u001b[39m# enc_model = Encoder(d_model=256, num_heads=8, num_layers=12, dim_feedforward=4, dropout=0, patch_size=8, activation_fn=\"gelu\").to(\"cuda\")\u001b[39;00m\n",
      "File \u001b[0;32m/home/lab/media/shrey/image-to-latex/vit.py:90\u001b[0m, in \u001b[0;36mPatchEmbedding.__init__\u001b[0;34m(self, patch_size, emb_size, img_size)\u001b[0m\n\u001b[1;32m     87\u001b[0m \u001b[39mself\u001b[39m\u001b[39m.\u001b[39mcls_token \u001b[39m=\u001b[39m nn\u001b[39m.\u001b[39mParameter(torch\u001b[39m.\u001b[39mrandn(\u001b[39m1\u001b[39m, emb_size, \u001b[39m1\u001b[39m, \u001b[39m1\u001b[39m)) \n\u001b[1;32m     88\u001b[0m \u001b[39m# self.positions = nn.Parameter(torch.randn((img_size[1] * img_size[2] // (patch_size**2)) + 1, emb_size))\u001b[39;00m\n\u001b[0;32m---> 90\u001b[0m \u001b[39mself\u001b[39m\u001b[39m.\u001b[39mimage_pos_enc \u001b[39m=\u001b[39m ImagePositionalEncoding(emb_size\u001b[39m+\u001b[39;49m\u001b[39m1\u001b[39;49m)\n",
      "File \u001b[0;32m/home/lab/media/shrey/image-to-latex/vit.py:45\u001b[0m, in \u001b[0;36mImagePositionalEncoding.__init__\u001b[0;34m(self, d_model, max_h, max_w)\u001b[0m\n\u001b[1;32m     43\u001b[0m \u001b[39msuper\u001b[39m()\u001b[39m.\u001b[39m\u001b[39m__init__\u001b[39m()\n\u001b[1;32m     44\u001b[0m \u001b[39mself\u001b[39m\u001b[39m.\u001b[39md_model \u001b[39m=\u001b[39m d_model\n\u001b[0;32m---> 45\u001b[0m \u001b[39massert\u001b[39;00m d_model \u001b[39m%\u001b[39m \u001b[39m2\u001b[39m \u001b[39m==\u001b[39m \u001b[39m0\u001b[39m, \u001b[39mf\u001b[39m\u001b[39m\"\u001b[39m\u001b[39mEmbedding depth \u001b[39m\u001b[39m{\u001b[39;00md_model\u001b[39m}\u001b[39;00m\u001b[39m is not even\u001b[39m\u001b[39m\"\u001b[39m\n\u001b[1;32m     46\u001b[0m peh, pew \u001b[39m=\u001b[39m \u001b[39mself\u001b[39m\u001b[39m.\u001b[39mmake_pe(d_model, max_h, max_w)  \u001b[39m# (d_model, max_h, max_w)\u001b[39;00m\n\u001b[1;32m     47\u001b[0m \u001b[39mself\u001b[39m\u001b[39m.\u001b[39mregister_buffer(\u001b[39m\"\u001b[39m\u001b[39mpeh\u001b[39m\u001b[39m\"\u001b[39m, peh)\n",
      "\u001b[0;31mAssertionError\u001b[0m: Embedding depth 257 is not even"
     ]
    }
   ],
   "source": [
    "input_img = (1,256,1152)\n",
    "\n",
    "# vc_model = VisionConvolutions().to(\"cuda\")\n",
    "\n",
    "pe_model = PatchEmbedding(16,256,(128,32,144)).to(\"cpu\")\n",
    "\n",
    "# enc_model = Encoder(256,8,8,4,0,8,256,\"gelu\").to(\"cuda\")\n",
    "\n",
    "# enc_model = Encoder()\n",
    "\n",
    "# tenc_model = TransformerEncoder(256, 8, 12, 8, 0, \"gelu\").to(\"cuda\")\n",
    "\n",
    "# enc_model = Encoder(d_model=256, num_heads=8, num_layers=12, dim_feedforward=4, dropout=0, patch_size=8, activation_fn=\"gelu\").to(\"cuda\")\n"
   ]
  },
  {
   "cell_type": "code",
   "execution_count": null,
   "metadata": {},
   "outputs": [],
   "source": [
    "# summary(vc_model, input_img)\n",
    "# summary(pe_model, (128,32,144))\n",
    "\n",
    "summary(enc_model, input_img)\n",
    "\n",
    "# summary(tenc_model, (73,256))\n"
   ]
  },
  {
   "cell_type": "code",
   "execution_count": null,
   "metadata": {},
   "outputs": [],
   "source": []
  }
 ],
 "metadata": {
  "kernelspec": {
   "display_name": "Python 3",
   "language": "python",
   "name": "python3"
  },
  "language_info": {
   "codemirror_mode": {
    "name": "ipython",
    "version": 3
   },
   "file_extension": ".py",
   "mimetype": "text/x-python",
   "name": "python",
   "nbconvert_exporter": "python",
   "pygments_lexer": "ipython3",
   "version": "3.8.10"
  },
  "orig_nbformat": 4,
  "vscode": {
   "interpreter": {
    "hash": "916dbcbb3f70747c44a77c7bcd40155683ae19c65e1c03b4aa3499c5328201f1"
   }
  }
 },
 "nbformat": 4,
 "nbformat_minor": 2
}
