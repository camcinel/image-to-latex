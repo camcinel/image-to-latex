{
 "cells": [
  {
   "cell_type": "code",
   "execution_count": null,
   "metadata": {},
   "outputs": [],
   "source": [
    "from vit import VisionConvolutions, PatchEmbedding, Encoder, TransformerEncoder\n",
    "from torchsummary import summary"
   ]
  },
  {
   "cell_type": "code",
   "execution_count": null,
   "metadata": {},
   "outputs": [],
   "source": [
    "input_img = (1,256,1152)\n",
    "\n",
    "vc_model = VisionConvolutions().to(\"cuda\")\n",
    "\n",
    "pe_model = PatchEmbedding(8,256,(128,32,144)).to(\"cuda\")\n",
    "\n",
    "# enc_model = Encoder(256,8,8,4,0,8,256,\"gelu\").to(\"cuda\")\n",
    "\n",
    "# enc_model = Encoder()\n",
    "\n",
    "tenc_model = TransformerEncoder(256, 8, 12, 8, 0, \"gelu\").to(\"cuda\")\n",
    "\n",
    "enc_model = Encoder(d_model=256, num_heads=8, num_layers=12, dim_feedforward=4, dropout=0, patch_size=8, emb_size=256, activation_fn=\"gelu\").to(\"cuda\")\n"
   ]
  },
  {
   "cell_type": "code",
   "execution_count": null,
   "metadata": {},
   "outputs": [],
   "source": [
    "# summary(vc_model, input_img)\n",
    "# summary(pe_model, (128,32,144))\n",
    "\n",
    "summary(enc_model, input_img)\n",
    "\n",
    "# summary(tenc_model, (73,256))\n"
   ]
  },
  {
   "cell_type": "code",
   "execution_count": null,
   "metadata": {},
   "outputs": [],
   "source": []
  }
 ],
 "metadata": {
  "kernelspec": {
   "display_name": "Python 3",
   "language": "python",
   "name": "python3"
  },
  "language_info": {
   "codemirror_mode": {
    "name": "ipython",
    "version": 3
   },
   "file_extension": ".py",
   "mimetype": "text/x-python",
   "name": "python",
   "nbconvert_exporter": "python",
   "pygments_lexer": "ipython3",
   "version": "3.8.10"
  },
  "orig_nbformat": 4,
  "vscode": {
   "interpreter": {
    "hash": "916dbcbb3f70747c44a77c7bcd40155683ae19c65e1c03b4aa3499c5328201f1"
   }
  }
 },
 "nbformat": 4,
 "nbformat_minor": 2
}
