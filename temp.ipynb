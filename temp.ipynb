{
 "cells": [
  {
   "cell_type": "code",
   "execution_count": 75,
   "id": "0932fb09",
   "metadata": {},
   "outputs": [],
   "source": [
    "from torchsummary import summary\n",
    "from vit import *\n",
    "from experiment import ModelSummary"
   ]
  },
  {
   "cell_type": "code",
   "execution_count": null,
   "id": "6701b94a",
   "metadata": {},
   "outputs": [],
   "source": [
    "model = Encoder(256).to(\"cuda\")\n",
    "\n",
    "summary(model, input_size=(1,128,1088))"
   ]
  },
  {
   "cell_type": "code",
   "execution_count": 78,
   "id": "5a963ed1",
   "metadata": {},
   "outputs": [
    {
     "name": "stdout",
     "output_type": "stream",
     "text": [
      "\n",
      "-----------------------------------------------------\n",
      "Trainable encoder parameters:\t25,284,864\n",
      "Trainable decoder parameters:\t12,958,546\n",
      "Total trainable parameters:\t38,243,410\n",
      "-----------------------------------------------------\n",
      "\n"
     ]
    }
   ],
   "source": [
    "config_data = {  \"encoder\": {\n",
    "    \"d_model\": 512,\n",
    "    \"nhead\": 8,\n",
    "    \"num_layers\": 8,\n",
    "    \"dim_feedforward\": 2048,\n",
    "    \"dropout\": 0.3,\n",
    "    \"patch_size\": 16,\n",
    "    \"activation\": \"gelu\",\n",
    "    \"batch_first\": True\n",
    "  },\n",
    "\n",
    "  \"decoder\": {\n",
    "    \"d_model\": 512,\n",
    "    \"nhead\": 4,\n",
    "    \"num_layers\": 3,\n",
    "    \"dim_feedforward\": 2048,\n",
    "    \"dropout\": 0.3\n",
    "  }}\n",
    "\n",
    "\n",
    "model = MathEquationConverter(config_encoder=config_data['encoder'], \n",
    "                                      config_decoder={\n",
    "                                          **config_data['decoder'], \n",
    "                                          'num_classes': 338, \n",
    "                                          'max_len': 152\n",
    "                                      })\n",
    "        \n",
    "ModelSummary(model)()"
   ]
  },
  {
   "cell_type": "code",
   "execution_count": 56,
   "id": "506e3d9f",
   "metadata": {},
   "outputs": [
    {
     "name": "stdout",
     "output_type": "stream",
     "text": [
      "Trainable encoder parameters: 10,553,472\n",
      "Trainable decoder parameters: 4,909,650\n",
      "Total trainable parameters: 15,463,122\n"
     ]
    }
   ],
   "source": [
    "config_data = {  \"encoder\": {\n",
    "    \"d_model\": 256,\n",
    "    \"nhead\": 8,\n",
    "    \"num_layers\": 8,\n",
    "    \"dim_feedforward\": 2048,\n",
    "    \"dropout\": 0.3,\n",
    "    \"patch_size\": 16,\n",
    "    \"activation\": \"gelu\",\n",
    "    \"batch_first\": True\n",
    "  },\n",
    "\n",
    "  \"decoder\": {\n",
    "    \"d_model\": 256,\n",
    "    \"nhead\": 4,\n",
    "    \"num_layers\": 3,\n",
    "    \"dim_feedforward\": 2048,\n",
    "    \"dropout\": 0.3\n",
    "  }}\n",
    "\n",
    "\n",
    "model = MathEquationConverter(config_encoder=config_data['encoder'], \n",
    "                                      config_decoder={\n",
    "                                          **config_data['decoder'], \n",
    "                                          'num_classes': 338, \n",
    "                                          'max_len': 152\n",
    "                                      })\n",
    "\n",
    "ModelSummary(model)()"
   ]
  }
 ],
 "metadata": {
  "kernelspec": {
   "display_name": "Python 3 (ipykernel)",
   "language": "python",
   "name": "python3"
  },
  "language_info": {
   "codemirror_mode": {
    "name": "ipython",
    "version": 3
   },
   "file_extension": ".py",
   "mimetype": "text/x-python",
   "name": "python",
   "nbconvert_exporter": "python",
   "pygments_lexer": "ipython3",
   "version": "3.9.5"
  }
 },
 "nbformat": 4,
 "nbformat_minor": 5
}
