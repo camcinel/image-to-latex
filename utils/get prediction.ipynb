{
 "cells": [
  {
   "cell_type": "code",
   "execution_count": 3,
   "id": "314e0611",
   "metadata": {},
   "outputs": [],
   "source": [
    "from model_factory import get_model\n",
    "from file_utils import *\n",
    "from caption_utils import *\n",
    "from vocab import load_vocab\n",
    "import torch\n",
    "import matplotlib.pyplot as plt\n",
    "import torchvision.transforms as transforms\n",
    "import numpy as np\n",
    "from PIL import Image\n",
    "from IPython.display import display, Math, Latex\n",
    "import subprocess\n",
    "# subprocess.run(['screencapture', '-i', './test.png'])"
   ]
  },
  {
   "cell_type": "code",
   "execution_count": 7,
   "id": "83503f62",
   "metadata": {},
   "outputs": [
    {
     "name": "stdout",
     "output_type": "stream",
     "text": [
      "The image size is: (135, 1204)\n",
      "\n",
      "------------------Model Summary----------------------\n",
      "Trainable encoder parameters:\t25,284,864\n",
      "Trainable decoder parameters:\t12,958,546\n",
      "Total trainable parameters:\t38,243,410\n",
      "-----------------------------------------------------\n",
      "\n",
      "Loaded model with 38243410 parameters\n",
      "Error: The image size is too large. May affect accuracy!\n",
      "The original image is:\n"
     ]
    },
    {
     "data": {
      "image/png": "[encoded data removed]",
      "text/plain": [
       "<Figure size 432x288 with 1 Axes>"
      ]
     },
     "metadata": {
      "needs_background": "light"
     },
     "output_type": "display_data"
    },
    {
     "name": "stdout",
     "output_type": "stream",
     "text": [
      "The predicted LaTex code is: \\int _ { 0 } ^ { x } \\sum _ { r \\leq n } \\left[ \\frac { \\operatorname { l o g } u } { \\operatorname { l o g } p } \\right] \\operatorname { l o g } p \\, \\mathrm { d } \\, a r } = \\frac { 1 } { 2 \\pi } \\int _ { r = \\operatorname { r + \\infty } ^ { + \\infty } \\frac { x ^ { \\nu + 1 } } { s ( s + 1 ) } \\left( \\begin{array} { c } { \\zeta ^ { \\prime } ( s ) } \\\\ { \\zeta ( s ) } \\right) \\operatorname { l o s }\n",
      "\n",
      " The reconstrcuted image is:\n"
     ]
    },
    {
     "data": {
      "text/latex": [
       "$\\int _ { 0 } ^ { x } \\sum _ { r \\leq n } \\left[ \\frac { \\operatorname { l o g } u } { \\operatorname { l o g } p } \\right] \\operatorname { l o g } p \\, \\mathrm { d } \\, a r } = \\frac { 1 } { 2 \\pi } \\int _ { r = \\operatorname { r + \\infty } ^ { + \\infty } \\frac { x ^ { \\nu + 1 } } { s ( s + 1 ) } \\left( \\begin{array} { c } { \\zeta ^ { \\prime } ( s ) } \\\\ { \\zeta ( s ) } \\right) \\operatorname { l o s }$"
      ],
      "text/plain": [
       "<IPython.core.display.Latex object>"
      ]
     },
     "execution_count": 7,
     "metadata": {},
     "output_type": "execute_result"
    }
   ],
   "source": [
    "# Load the image from its path\n",
    "img = Image.open('./test6.png')\n",
    "\n",
    "# Convert the image to grayscale\n",
    "img = img.convert('L')\n",
    "\n",
    "# Convert the image to a 2D numpy array\n",
    "img = 255 - np.array(img)\n",
    "\n",
    "# Find the boundaries of the image\n",
    "nonzero_rows, nonzero_cols = np.nonzero(img)\n",
    "upper_row, lower_row = nonzero_rows.min(), nonzero_rows.max()\n",
    "left_col, right_col = nonzero_cols.min(), nonzero_cols.max()\n",
    "\n",
    "# Trim the image based on the boundaries\n",
    "img = img[upper_row:lower_row+1, left_col:right_col+1]\n",
    "\n",
    "\n",
    "print(f'The image size is: {img.shape}')\n",
    "\n",
    "\n",
    "torch.cuda.empty_cache()\n",
    "folder_name = 'ViT_experiment_90'\n",
    "test_id = None\n",
    "device = torch.device('cuda' if torch.cuda.is_available() else 'cpu')\n",
    "config_data = read_file_in_dir('./experiment_data/'+folder_name, 'config.json')\n",
    "exp_name = config_data['experiment_name']\n",
    "generation_config = config_data['generation']\n",
    "vocab = load_vocab(config_data['dataset']['vocab_dir'])\n",
    "\n",
    "model = get_model(config_data, vocab).to(device)\n",
    "state_dict = torch.load('./experiment_data/'+folder_name+'/best_model.pt', map_location=device)\n",
    "model.load_state_dict(state_dict['model'])\n",
    "\n",
    "def count_parameters(model):\n",
    "    return sum(p.numel() for p in model.parameters() if p.requires_grad)\n",
    "print(f'Loaded model with {count_parameters(model)} parameters')\n",
    "\n",
    "model.eval()\n",
    "\n",
    "image = torch.tensor(img, dtype=torch.float32)\n",
    "# Check if the size of the image is less than or equal to 128x1088\n",
    "if img.shape[0] > 64 or img.shape[1] > 544:\n",
    "    print(\"Error: The image size is too large. May affect accuracy!\")\n",
    "    n, m = image.shape\n",
    "    ratio = max(n/63, m/543)\n",
    "    n, m = int(n/ratio), int(m/ratio)\n",
    "    image = transforms.Resize( (n, m) )(image.unsqueeze(0)).squeeze(0)\n",
    "\n",
    "max_h, max_w = 64, 544\n",
    "\n",
    "\n",
    "a, b = (max_w-m)//2, (max_h-n)//2\n",
    "transform = transforms.Compose([\n",
    "    transforms.Pad( (a, b, max_w-m-a, max_h-n-b), fill=0, padding_mode='constant')\n",
    "])\n",
    "image = transform(image) / 255\n",
    "\n",
    "\n",
    "print('The original image is:')\n",
    "plt.axis('off')\n",
    "plt.imshow(255-image, cmap='gray')\n",
    "plt.show()\n",
    "\n",
    "\n",
    "with torch.no_grad():\n",
    "    image = image.to(device).unsqueeze(0).unsqueeze(0)\n",
    "    output = model.predict(image)\n",
    "    output_cap = remove(get_caption(output[0], vocab, generation_config))\n",
    "    output_cap = ' '.join(output_cap)\n",
    "    \n",
    "print(f'The predicted LaTex code is: {output_cap}')\n",
    "\n",
    "print('\\n The reconstrcuted image is:')\n",
    "Latex('$' + output_cap + '$')"
   ]
  }
 ],
 "metadata": {
  "kernelspec": {
   "display_name": "Python 3 (ipykernel)",
   "language": "python",
   "name": "python3"
  },
  "language_info": {
   "codemirror_mode": {
    "name": "ipython",
    "version": 3
   },
   "file_extension": ".py",
   "mimetype": "text/x-python",
   "name": "python",
   "nbconvert_exporter": "python",
   "pygments_lexer": "ipython3",
   "version": "3.9.5"
  }
 },
 "nbformat": 4,
 "nbformat_minor": 5
}
